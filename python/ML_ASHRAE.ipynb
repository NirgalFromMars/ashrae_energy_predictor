{
 "cells": [
  {
   "cell_type": "code",
   "execution_count": null,
   "id": "e7c54784-eb76-4d30-b5ce-a0b3aed4b772",
   "metadata": {},
   "outputs": [],
   "source": [
    "# --- 1. Libraries ---\n",
    "import pandas as pd\n",
    "import numpy as np\n",
    "import os\n",
    "os.environ[\"GOOGLE_APPLICATION_CREDENTIALS\"] = r\"C:\\Users\\Eros\\Documents\\__Proyecto Integral__Kaggle__ASHRAE Energy Predictor\\ashrae-bq-project-f47cdb69be15.json\"\n",
    "from google.cloud import bigquery\n",
    "from sklearn.model_selection import train_test_split\n",
    "from sklearn.linear_model import LinearRegression\n",
    "from sklearn.ensemble import RandomForestRegressor\n",
    "from sklearn.ensemble import GradientBoostingRegressor\n",
    "from xgboost import XGBRegressor\n",
    "from sklearn.metrics import r2_score, mean_squared_error"
   ]
  },
  {
   "cell_type": "code",
   "execution_count": null,
   "id": "9aa46a61-30c7-446d-a207-f1c72f617e81",
   "metadata": {},
   "outputs": [],
   "source": [
    "# --- 2. Conection to BigQuery ---\n",
    "client = bigquery.Client(location=\"EU\")\n",
    "\n",
    "# --- 3. Query ---\n",
    "query = \"\"\"\n",
    "SELECT *\n",
    "FROM `ashrae-bq-project.ashrae_dataset.silver_norm_features_v5`\n",
    "LIMIT 1000000\n",
    "\"\"\"\n",
    "\n",
    "df = client.query(query).to_dataframe()\n",
    "\n",
    "df = df.drop(columns=[\"data_split\"], errors=\"ignore\")  # column created to split train/test at origin, no needed here\n",
    "\n",
    "print(\"Downloaded Data:\", df.shape)"
   ]
  },
  {
   "cell_type": "code",
   "execution_count": null,
   "id": "0fda0ae7-0666-405e-8c43-ef6a9809a677",
   "metadata": {},
   "outputs": [],
   "source": [
    "# --- 4. Basic Preprocessed ---\n",
    "# Delete rows with nulls\n",
    "df = df.dropna()\n",
    "\n",
    "# Categorical Variables → one-hot encoding\n",
    "df = pd.get_dummies(df, columns=[\"primary_use\", \"primary_use_grouped\", \"hour_block\"], drop_first=True)\n",
    "\n",
    "# Features & target\n",
    "X = df.drop(\"meter_reading_log\", axis=1)\n",
    "y = df[\"meter_reading_log\"]"
   ]
  },
  {
   "cell_type": "code",
   "execution_count": null,
   "id": "c8be2c2b-978c-4ca7-bcc0-9c83c4bc93e6",
   "metadata": {},
   "outputs": [],
   "source": [
    "# --- 5. Function for training & evaluate ---\n",
    "def evaluate_model(model, X, y, test_size=0.2, random_state=42):\n",
    "    X_train, X_test, y_train, y_test = train_test_split(X, y, test_size=test_size, random_state=random_state)\n",
    "    model.fit(X_train, y_train)\n",
    "    y_pred = model.predict(X_test)\n",
    "    r2 = r2_score(y_test, y_pred)\n",
    "    rmse = mean_squared_error(y_test, y_pred, squared=False)\n",
    "    return r2, rmse"
   ]
  },
  {
   "cell_type": "code",
   "execution_count": 4,
   "id": "22db172e-5237-4759-a1a6-e187865bc6f2",
   "metadata": {},
   "outputs": [
    {
     "data": {
      "text/html": [
       "<div>\n",
       "<style scoped>\n",
       "    .dataframe tbody tr th:only-of-type {\n",
       "        vertical-align: middle;\n",
       "    }\n",
       "\n",
       "    .dataframe tbody tr th {\n",
       "        vertical-align: top;\n",
       "    }\n",
       "\n",
       "    .dataframe thead th {\n",
       "        text-align: right;\n",
       "    }\n",
       "</style>\n",
       "<table border=\"1\" class=\"dataframe\">\n",
       "  <thead>\n",
       "    <tr style=\"text-align: right;\">\n",
       "      <th></th>\n",
       "      <th>Modelo</th>\n",
       "      <th>R2</th>\n",
       "      <th>RMSE</th>\n",
       "    </tr>\n",
       "  </thead>\n",
       "  <tbody>\n",
       "    <tr>\n",
       "      <th>0</th>\n",
       "      <td>XGBRegressor</td>\n",
       "      <td>0.980956</td>\n",
       "      <td>0.241944</td>\n",
       "    </tr>\n",
       "    <tr>\n",
       "      <th>1</th>\n",
       "      <td>GradientBoostingRegressor</td>\n",
       "      <td>0.978828</td>\n",
       "      <td>0.255106</td>\n",
       "    </tr>\n",
       "    <tr>\n",
       "      <th>2</th>\n",
       "      <td>RandomForest</td>\n",
       "      <td>0.977836</td>\n",
       "      <td>0.261013</td>\n",
       "    </tr>\n",
       "    <tr>\n",
       "      <th>3</th>\n",
       "      <td>LinearRegression</td>\n",
       "      <td>0.685116</td>\n",
       "      <td>0.983821</td>\n",
       "    </tr>\n",
       "  </tbody>\n",
       "</table>\n",
       "</div>"
      ],
      "text/plain": [
       "                      Modelo        R2      RMSE\n",
       "0               XGBRegressor  0.980956  0.241944\n",
       "1  GradientBoostingRegressor  0.978828  0.255106\n",
       "2               RandomForest  0.977836  0.261013\n",
       "3           LinearRegression  0.685116  0.983821"
      ]
     },
     "metadata": {},
     "output_type": "display_data"
    }
   ],
   "source": [
    "# --- 6. Evaluación con todos los datos ---\n",
    "\n",
    "r2_lin, rmse_lin = evaluate_model(LinearRegression(), X, y)\n",
    "r2_rf, rmse_rf = evaluate_model(RandomForestRegressor(n_estimators=50, random_state=42), X, y)\n",
    "r2_xgb, rmse_xgb = evaluate_model(XGBRegressor(tree_method=\"hist\", n_estimators=300, learning_rate=0.1, max_depth=8, random_state=42), X, y)\n",
    "r2_gb, rmse_gb = evaluate_model(GradientBoostingRegressor(n_estimators=300, learning_rate=0.1, max_depth=5, random_state=42), X, y)\n",
    "\n",
    "# Diccionario con resultados\n",
    "results = {\n",
    "    \"Model\": [\"LinearRegression\", \"RandomForest\", \"XGBRegressor\", \"GradientBoostingRegressor\"],\n",
    "    \"R2_Score\": [r2_lin, r2_rf, r2_xgb, r2_gb],\n",
    "    \"RMSE\": [rmse_lin, rmse_rf, rmse_xgb, rmse_gb]\n",
    "}\n",
    "\n",
    "df_results = pd.DataFrame(results)\n",
    "\n",
    "# Mostrar como tabla ordenada por R2\n",
    "df_results = df_results.sort_values(by=\"R2\", ascending=False).reset_index(drop=True)\n",
    "display(df_results)"
   ]
  }
 ],
 "metadata": {
  "kernelspec": {
   "display_name": "Python [conda env:ml_env]",
   "language": "python",
   "name": "conda-env-ml_env-py"
  },
  "language_info": {
   "codemirror_mode": {
    "name": "ipython",
    "version": 3
   },
   "file_extension": ".py",
   "mimetype": "text/x-python",
   "name": "python",
   "nbconvert_exporter": "python",
   "pygments_lexer": "ipython3",
   "version": "3.11.13"
  }
 },
 "nbformat": 4,
 "nbformat_minor": 5
}
